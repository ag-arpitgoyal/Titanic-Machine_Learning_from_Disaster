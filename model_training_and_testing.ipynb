{
 "cells": [
  {
   "cell_type": "code",
   "execution_count": 74,
   "id": "d9804cf8",
   "metadata": {},
   "outputs": [
    {
     "name": "stdout",
     "output_type": "stream",
     "text": [
      "Sex\n",
      "0    577\n",
      "1    314\n",
      "Name: count, dtype: int64\n",
      "Sex\n",
      "0    266\n",
      "1    152\n",
      "Name: count, dtype: int64\n"
     ]
    }
   ],
   "source": [
    "import pandas as pd\n",
    "\n",
    "\n",
    "df_train = pd.read_csv(\"final_training.csv\")\n",
    "df_test = pd.read_csv(\"final_testing.csv\")\n",
    "\n",
    "\n",
    "sex_map = {\"male\": 0, \"female\": 1}\n",
    "df_train[\"Sex\"] = df_train[\"Sex\"].map(sex_map)\n",
    "df_test[\"Sex\"] = df_test[\"Sex\"].map(sex_map)\n",
    "\n",
    "\n",
    "print(df_train[\"Sex\"].value_counts())\n",
    "print(df_test[\"Sex\"].value_counts())\n"
   ]
  },
  {
   "cell_type": "code",
   "execution_count": 75,
   "id": "70c70f76",
   "metadata": {},
   "outputs": [],
   "source": [
    "embarked_train = pd.get_dummies(df_train[\"Embarked\"], prefix=\"Embarked\")\n",
    "embarked_test = pd.get_dummies(df_test[\"Embarked\"], prefix=\"Embarked\")\n",
    "\n",
    "embarked_train, embarked_test = embarked_train.align(embarked_test, join=\"outer\", axis=1, fill_value=0)\n",
    "\n",
    "df_train = pd.concat([df_train.drop(\"Embarked\", axis=1), embarked_train], axis=1)\n",
    "df_test = pd.concat([df_test.drop(\"Embarked\", axis=1), embarked_test], axis=1)\n"
   ]
  },
  {
   "cell_type": "code",
   "execution_count": 76,
   "id": "ea6d3ccc",
   "metadata": {},
   "outputs": [],
   "source": [
    "df_train[[\"Embarked_C\",\"Embarked_Q\",\"Embarked_S\"]] = df_train[[\"Embarked_C\",\"Embarked_Q\",\"Embarked_S\"]].astype(int)\n",
    "df_test[[\"Embarked_C\",\"Embarked_Q\",\"Embarked_S\"]] = df_test[[\"Embarked_C\",\"Embarked_Q\",\"Embarked_S\"]].astype(int)"
   ]
  },
  {
   "cell_type": "code",
   "execution_count": 77,
   "id": "f9396e24",
   "metadata": {},
   "outputs": [],
   "source": [
    "df_train.drop(columns=[\"Ticket_Prefix\"], inplace=True)\n",
    "df_test.drop(columns=[\"Ticket_Prefix\"], inplace=True)"
   ]
  },
  {
   "cell_type": "code",
   "execution_count": null,
   "id": "11088eb6",
   "metadata": {},
   "outputs": [
    {
     "name": "stderr",
     "output_type": "stream",
     "text": [
      "/home/arpit_goyal/Desktop/Titanic Disaster/titanic-env/lib/python3.12/site-packages/xgboost/training.py:183: UserWarning: [03:05:46] WARNING: /workspace/src/learner.cc:738: \n",
      "Parameters: { \"use_label_encoder\" } are not used.\n",
      "\n",
      "  bst.update(dtrain, iteration=i, fobj=obj)\n"
     ]
    },
    {
     "name": "stdout",
     "output_type": "stream",
     "text": [
      "Validation Accuracy: 0.8100558659217877\n",
      "              precision    recall  f1-score   support\n",
      "\n",
      "           0       0.83      0.86      0.85       110\n",
      "           1       0.77      0.72      0.75        69\n",
      "\n",
      "    accuracy                           0.81       179\n",
      "   macro avg       0.80      0.79      0.80       179\n",
      "weighted avg       0.81      0.81      0.81       179\n",
      "\n"
     ]
    }
   ],
   "source": [
    "from sklearn.model_selection import train_test_split\n",
    "from xgboost import XGBClassifier\n",
    "from sklearn.metrics import accuracy_score, classification_report\n",
    "\n",
    "y = df_train[\"Survived\"]\n",
    "X = df_train.drop(\"Survived\", axis=1)\n",
    "\n",
    "passenger_ids = df_test[\"PassengerId\"] if \"PassengerId\" in df_test.columns else None\n",
    "X_test = df_test.drop(\"PassengerId\", axis=1, errors=\"ignore\")\n",
    "\n",
    "X_train, X_val, y_train, y_val = train_test_split(\n",
    "    X, y, test_size=0.2, random_state=42, stratify=y\n",
    ")\n",
    "\n",
    "# Initialize XGBoost\n",
    "model = XGBClassifier(\n",
    "    n_estimators=300,\n",
    "    max_depth=4,\n",
    "    learning_rate=0.05,\n",
    "    subsample=0.8,\n",
    "    colsample_bytree=0.8,\n",
    "    random_state=42,\n",
    "    use_label_encoder=False,\n",
    "    eval_metric=\"logloss\"\n",
    ")\n",
    "\n",
    "# Train\n",
    "model.fit(X_train, y_train)\n",
    "\n",
    "# Validate\n",
    "y_pred = model.predict(X_val)\n",
    "print(\"Validation Accuracy:\", accuracy_score(y_val, y_pred))\n",
    "print(classification_report(y_val, y_pred))\n",
    "\n",
    "# Predict on test set\n",
    "y_test_pred = model.predict(X_test)\n"
   ]
  },
  {
   "cell_type": "code",
   "execution_count": 83,
   "id": "eceb8171",
   "metadata": {},
   "outputs": [],
   "source": [
    "submission = pd.DataFrame({\n",
    "    \"PassengerId\": passenger_ids,\n",
    "    \"Survived\": y_test_pred\n",
    "})\n",
    "submission.to_csv(\"xgb_submission_final.csv\", index=False)\n"
   ]
  },
  {
   "cell_type": "code",
   "execution_count": null,
   "id": "f7cde8c3",
   "metadata": {},
   "outputs": [],
   "source": []
  }
 ],
 "metadata": {
  "kernelspec": {
   "display_name": "titanic-env",
   "language": "python",
   "name": "python3"
  },
  "language_info": {
   "codemirror_mode": {
    "name": "ipython",
    "version": 3
   },
   "file_extension": ".py",
   "mimetype": "text/x-python",
   "name": "python",
   "nbconvert_exporter": "python",
   "pygments_lexer": "ipython3",
   "version": "3.12.3"
  }
 },
 "nbformat": 4,
 "nbformat_minor": 5
}
