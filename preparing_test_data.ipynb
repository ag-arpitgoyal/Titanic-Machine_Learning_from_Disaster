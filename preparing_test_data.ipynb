{
 "cells": [
  {
   "cell_type": "code",
   "execution_count": 2,
   "id": "673f0cbf",
   "metadata": {},
   "outputs": [],
   "source": [
    "import pandas as pd\n",
    "import matplotlib.pyplot as plt\n",
    "\n",
    "df = pd.read_csv('Raw Data/test.csv')\n",
    "\n",
    "df.to_csv('testing.csv', index=False)"
   ]
  },
  {
   "cell_type": "code",
   "execution_count": 6,
   "id": "36500af4",
   "metadata": {},
   "outputs": [
    {
     "data": {
      "text/plain": [
       "count    418.000000\n",
       "mean      27.483254\n",
       "std        9.971228\n",
       "min       13.000000\n",
       "25%       20.000000\n",
       "50%       25.000000\n",
       "75%       30.750000\n",
       "max       63.000000\n",
       "Name: Name Length, dtype: float64"
      ]
     },
     "execution_count": 6,
     "metadata": {},
     "output_type": "execute_result"
    }
   ],
   "source": [
    "df[\"Name Length\"] = df[\"Name\"].apply(len)\n",
    "df[\"Name Length\"].describe()"
   ]
  },
  {
   "cell_type": "code",
   "execution_count": 7,
   "id": "720e10d8",
   "metadata": {},
   "outputs": [
    {
     "data": {
      "text/plain": [
       "count    418.000000\n",
       "mean       2.265550\n",
       "std        0.841838\n",
       "min        1.000000\n",
       "25%        1.000000\n",
       "50%        3.000000\n",
       "75%        3.000000\n",
       "max        3.000000\n",
       "Name: Pclass, dtype: float64"
      ]
     },
     "execution_count": 7,
     "metadata": {},
     "output_type": "execute_result"
    }
   ],
   "source": [
    "df[\"Pclass\"].describe()"
   ]
  },
  {
   "cell_type": "code",
   "execution_count": 8,
   "id": "ee4cacb6",
   "metadata": {},
   "outputs": [
    {
     "data": {
      "text/plain": [
       "count      418\n",
       "unique       2\n",
       "top       male\n",
       "freq       266\n",
       "Name: Sex, dtype: object"
      ]
     },
     "execution_count": 8,
     "metadata": {},
     "output_type": "execute_result"
    }
   ],
   "source": [
    "df[\"Sex\"].describe()"
   ]
  },
  {
   "cell_type": "code",
   "execution_count": 9,
   "id": "f4140d69",
   "metadata": {},
   "outputs": [
    {
     "data": {
      "text/plain": [
       "count    332.000000\n",
       "mean      30.272590\n",
       "std       14.181209\n",
       "min        0.170000\n",
       "25%       21.000000\n",
       "50%       27.000000\n",
       "75%       39.000000\n",
       "max       76.000000\n",
       "Name: Age, dtype: float64"
      ]
     },
     "execution_count": 9,
     "metadata": {},
     "output_type": "execute_result"
    }
   ],
   "source": [
    "df[\"Age\"].describe()"
   ]
  },
  {
   "cell_type": "code",
   "execution_count": 10,
   "id": "1451372e",
   "metadata": {},
   "outputs": [],
   "source": [
    "df[\"AgeEstimated\"] = df[\"Age\"].apply(lambda x: 1 if pd.isna(x) or (isinstance(x, float) and x % 1 == 0.5) else 0)"
   ]
  },
  {
   "cell_type": "code",
   "execution_count": 11,
   "id": "afd7f34d",
   "metadata": {},
   "outputs": [
    {
     "name": "stdout",
     "output_type": "stream",
     "text": [
      "Miss.: 21.774843750000002\n",
      "Mr.: 33.7469387755102\n",
      "Mrs.: 38.903225806451616\n",
      "Master.: 7.406470588235294\n"
     ]
    }
   ],
   "source": [
    "print(\"Miss.:\", df[df[\"Name\"].str.contains(\"Miss.\")][\"Age\"].mean())\n",
    "print(\"Mr.:\", df[df[\"Name\"].str.contains(\"Mr.\")][\"Age\"].mean())\n",
    "print(\"Mrs.:\", df[df[\"Name\"].str.contains(\"Mrs.\")][\"Age\"].mean())\n",
    "print(\"Master.:\", df[df[\"Name\"].str.contains(\"Master.\")][\"Age\"].mean())"
   ]
  },
  {
   "cell_type": "code",
   "execution_count": null,
   "id": "99473807",
   "metadata": {},
   "outputs": [],
   "source": [
    "age_map = {\n",
    "    \"Miss.\": 21.8,\n",
    "    \"Mr.\": 33.7,\n",
    "    \"Mrs.\": 38.9,\n",
    "    \"Master.\": 7.4\n",
    "}\n",
    "\n",
    "def fill_age(row):\n",
    "    if pd.isna(row[\"Age\"]):\n",
    "        for title, avg_age in age_map.items():\n",
    "            if title in row[\"Name\"]:\n",
    "                return avg_age\n",
    "        return row[\"Age\"]\n",
    "    return row[\"Age\"]\n",
    "\n",
    "df[\"Age\"] = df.apply(fill_age, axis=1)"
   ]
  },
  {
   "cell_type": "code",
   "execution_count": 13,
   "id": "188336d6",
   "metadata": {},
   "outputs": [
    {
     "data": {
      "text/plain": [
       "count    417.000000\n",
       "mean      30.444125\n",
       "std       13.070221\n",
       "min        0.170000\n",
       "25%       22.000000\n",
       "50%       30.000000\n",
       "75%       37.000000\n",
       "max       76.000000\n",
       "Name: Age, dtype: float64"
      ]
     },
     "execution_count": 13,
     "metadata": {},
     "output_type": "execute_result"
    }
   ],
   "source": [
    "df[\"Age\"].describe()"
   ]
  },
  {
   "cell_type": "code",
   "execution_count": 14,
   "id": "4ee97285",
   "metadata": {},
   "outputs": [
    {
     "name": "stdout",
     "output_type": "stream",
     "text": [
      "    PassengerId  Pclass                     Name     Sex  Age  SibSp  Parch  \\\n",
      "88          980       3  O'Donoghue, Ms. Bridget  female  NaN      0      0   \n",
      "\n",
      "    Ticket  Fare Cabin Embarked  Name Length  AgeEstimated  \n",
      "88  364856  7.75   NaN        Q           23             1  \n"
     ]
    }
   ],
   "source": [
    "print(df[df[\"Age\"].isna()])"
   ]
  },
  {
   "cell_type": "code",
   "execution_count": 15,
   "id": "e17c8a5c",
   "metadata": {},
   "outputs": [],
   "source": [
    "df[\"Age\"].fillna(21.8, inplace=True)"
   ]
  },
  {
   "cell_type": "code",
   "execution_count": 16,
   "id": "6ad3a728",
   "metadata": {},
   "outputs": [
    {
     "data": {
      "text/plain": [
       "count    418.000000\n",
       "mean       0.447368\n",
       "std        0.896760\n",
       "min        0.000000\n",
       "25%        0.000000\n",
       "50%        0.000000\n",
       "75%        1.000000\n",
       "max        8.000000\n",
       "Name: SibSp, dtype: float64"
      ]
     },
     "execution_count": 16,
     "metadata": {},
     "output_type": "execute_result"
    }
   ],
   "source": [
    "df[\"SibSp\"].describe()"
   ]
  },
  {
   "cell_type": "code",
   "execution_count": 17,
   "id": "10c3370e",
   "metadata": {},
   "outputs": [
    {
     "data": {
      "text/plain": [
       "count    418.000000\n",
       "mean       0.392344\n",
       "std        0.981429\n",
       "min        0.000000\n",
       "25%        0.000000\n",
       "50%        0.000000\n",
       "75%        0.000000\n",
       "max        9.000000\n",
       "Name: Parch, dtype: float64"
      ]
     },
     "execution_count": 17,
     "metadata": {},
     "output_type": "execute_result"
    }
   ],
   "source": [
    "df[\"Parch\"].describe()"
   ]
  },
  {
   "cell_type": "code",
   "execution_count": 18,
   "id": "7e2fe960",
   "metadata": {},
   "outputs": [
    {
     "name": "stdout",
     "output_type": "stream",
     "text": [
      "283 110\n",
      "324 52\n"
     ]
    }
   ],
   "source": [
    "print(df[df[\"SibSp\"] == 0].shape[0], df[df[\"SibSp\"] == 1].shape[0])\n",
    "print(df[df[\"Parch\"] == 0].shape[0], df[df[\"Parch\"] == 1].shape[0])"
   ]
  },
  {
   "cell_type": "code",
   "execution_count": 19,
   "id": "f16ad996",
   "metadata": {},
   "outputs": [],
   "source": [
    "df[\"Family_Size\"] = df[\"SibSp\"] + df[\"Parch\"] + 1"
   ]
  },
  {
   "cell_type": "code",
   "execution_count": 20,
   "id": "6fbdba43",
   "metadata": {},
   "outputs": [],
   "source": [
    "df[\"isAlone\"] = (df[\"Family_Size\"] == 1).astype(int)"
   ]
  },
  {
   "cell_type": "code",
   "execution_count": 21,
   "id": "8bf316a4",
   "metadata": {},
   "outputs": [],
   "source": [
    "df.drop(\"Family_Size\", axis=1, inplace=True)"
   ]
  },
  {
   "cell_type": "code",
   "execution_count": 22,
   "id": "7ab9bd19",
   "metadata": {},
   "outputs": [
    {
     "data": {
      "text/plain": [
       "count          418\n",
       "unique         363\n",
       "top       PC 17608\n",
       "freq             5\n",
       "Name: Ticket, dtype: object"
      ]
     },
     "execution_count": 22,
     "metadata": {},
     "output_type": "execute_result"
    }
   ],
   "source": [
    "df[\"Ticket\"].describe()"
   ]
  },
  {
   "cell_type": "code",
   "execution_count": 23,
   "id": "3a6bf893",
   "metadata": {},
   "outputs": [],
   "source": [
    "df[\"Ticket_Prefix\"] = df[\"Ticket\"].astype(str).str[0]"
   ]
  },
  {
   "cell_type": "code",
   "execution_count": 24,
   "id": "8130671c",
   "metadata": {},
   "outputs": [
    {
     "name": "stdout",
     "output_type": "stream",
     "text": [
      "Ticket_Prefix\n",
      "3    128\n",
      "2     95\n",
      "1     64\n",
      "S     33\n",
      "P     33\n",
      "C     30\n",
      "A     13\n",
      "W      6\n",
      "F      6\n",
      "7      4\n",
      "6      3\n",
      "4      1\n",
      "9      1\n",
      "L      1\n",
      "Name: count, dtype: int64\n"
     ]
    }
   ],
   "source": [
    "print(df[\"Ticket_Prefix\"].value_counts())"
   ]
  },
  {
   "cell_type": "code",
   "execution_count": 25,
   "id": "20646e40",
   "metadata": {},
   "outputs": [
    {
     "data": {
      "text/plain": [
       "count    417.000000\n",
       "mean      35.627188\n",
       "std       55.907576\n",
       "min        0.000000\n",
       "25%        7.895800\n",
       "50%       14.454200\n",
       "75%       31.500000\n",
       "max      512.329200\n",
       "Name: Fare, dtype: float64"
      ]
     },
     "execution_count": 25,
     "metadata": {},
     "output_type": "execute_result"
    }
   ],
   "source": [
    "df[\"Fare\"].describe()"
   ]
  },
  {
   "cell_type": "code",
   "execution_count": 26,
   "id": "67388cec",
   "metadata": {},
   "outputs": [],
   "source": [
    "df[\"Fare\"].fillna(35.62, inplace=True)"
   ]
  },
  {
   "cell_type": "code",
   "execution_count": 27,
   "id": "a4dfa367",
   "metadata": {},
   "outputs": [
    {
     "data": {
      "text/plain": [
       "count                  91\n",
       "unique                 76\n",
       "top       B57 B59 B63 B66\n",
       "freq                    3\n",
       "Name: Cabin, dtype: object"
      ]
     },
     "execution_count": 27,
     "metadata": {},
     "output_type": "execute_result"
    }
   ],
   "source": [
    "df[\"Cabin\"].describe()"
   ]
  },
  {
   "cell_type": "code",
   "execution_count": 28,
   "id": "f5bfca1b",
   "metadata": {},
   "outputs": [
    {
     "name": "stdout",
     "output_type": "stream",
     "text": [
      "Cabin\n",
      "C    35\n",
      "B    18\n",
      "D    13\n",
      "E     9\n",
      "F     8\n",
      "A     7\n",
      "G     1\n",
      "Name: count, dtype: int64\n"
     ]
    }
   ],
   "source": [
    "cabin_first_letter_counts = df[df[\"Cabin\"].notna()][\"Cabin\"].astype(str).str[0].value_counts()\n",
    "print(cabin_first_letter_counts)"
   ]
  },
  {
   "cell_type": "code",
   "execution_count": 29,
   "id": "298f455d",
   "metadata": {},
   "outputs": [],
   "source": [
    "cabin_survival_map = {\n",
    "    \"A\": 0.47,\n",
    "    \"B\": 0.74,\n",
    "    \"C\": 0.59,\n",
    "    \"D\": 0.76,\n",
    "    \"E\": 0.75,\n",
    "    \"F\": 0.62,\n",
    "    \"G\": 0.50,\n",
    "    \"T\": 0.00\n",
    "}\n",
    "\n",
    "def cabin_info(row):\n",
    "    if pd.isna(row[\"Cabin\"]):\n",
    "        return 0.30\n",
    "    first_letter = str(row[\"Cabin\"])[0]\n",
    "    return cabin_survival_map.get(first_letter, 0.30)\n",
    "\n",
    "df[\"CabinInfo\"] = df.apply(cabin_info, axis=1)"
   ]
  },
  {
   "cell_type": "code",
   "execution_count": 30,
   "id": "b86c9a4f",
   "metadata": {},
   "outputs": [
    {
     "data": {
      "text/plain": [
       "Index(['PassengerId', 'Pclass', 'Name', 'Sex', 'Age', 'SibSp', 'Parch',\n",
       "       'Ticket', 'Fare', 'Cabin', 'Embarked', 'Name Length', 'AgeEstimated',\n",
       "       'isAlone', 'Ticket_Prefix', 'CabinInfo'],\n",
       "      dtype='object')"
      ]
     },
     "execution_count": 30,
     "metadata": {},
     "output_type": "execute_result"
    }
   ],
   "source": [
    "df.columns"
   ]
  },
  {
   "cell_type": "code",
   "execution_count": 31,
   "id": "151407df",
   "metadata": {},
   "outputs": [
    {
     "data": {
      "text/plain": [
       "count     418\n",
       "unique      3\n",
       "top         S\n",
       "freq      270\n",
       "Name: Embarked, dtype: object"
      ]
     },
     "execution_count": 31,
     "metadata": {},
     "output_type": "execute_result"
    }
   ],
   "source": [
    "df[\"Embarked\"].describe()"
   ]
  },
  {
   "cell_type": "code",
   "execution_count": 32,
   "id": "4cae7712",
   "metadata": {},
   "outputs": [],
   "source": [
    "df.drop(columns=[\"Name\", \"Ticket\", \"Cabin\"], inplace=True)"
   ]
  },
  {
   "cell_type": "code",
   "execution_count": null,
   "id": "567cf4f7",
   "metadata": {},
   "outputs": [],
   "source": [
    "df.to_csv(\"final_testing.csv\", index=False)\n"
   ]
  },
  {
   "cell_type": "code",
   "execution_count": 34,
   "id": "ef5070fd",
   "metadata": {},
   "outputs": [
    {
     "name": "stdout",
     "output_type": "stream",
     "text": [
      "PassengerId      0\n",
      "Pclass           0\n",
      "Sex              0\n",
      "Age              0\n",
      "SibSp            0\n",
      "Parch            0\n",
      "Fare             0\n",
      "Embarked         0\n",
      "Name Length      0\n",
      "AgeEstimated     0\n",
      "isAlone          0\n",
      "Ticket_Prefix    0\n",
      "CabinInfo        0\n",
      "dtype: int64\n"
     ]
    }
   ],
   "source": [
    "print(df.isna().sum())"
   ]
  },
  {
   "cell_type": "code",
   "execution_count": null,
   "id": "fcc60352",
   "metadata": {},
   "outputs": [],
   "source": [
    "#now we go to model_training_and_testing.ipynb to encode features and train the model."
   ]
  }
 ],
 "metadata": {
  "kernelspec": {
   "display_name": "Python 3",
   "language": "python",
   "name": "python3"
  },
  "language_info": {
   "codemirror_mode": {
    "name": "ipython",
    "version": 3
   },
   "file_extension": ".py",
   "mimetype": "text/x-python",
   "name": "python",
   "nbconvert_exporter": "python",
   "pygments_lexer": "ipython3",
   "version": "3.12.3"
  }
 },
 "nbformat": 4,
 "nbformat_minor": 5
}
